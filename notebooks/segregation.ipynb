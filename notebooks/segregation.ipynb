{
 "cells": [
  {
   "cell_type": "markdown",
   "metadata": {},
   "source": [
    "Set ENV user_type to properly run the model in the notebook"
   ]
  },
  {
   "cell_type": "code",
   "execution_count": null,
   "metadata": {},
   "outputs": [],
   "source": [
    "import os\n",
    "os.environ[\"user_type\"] = \"terminal\""
   ]
  },
  {
   "cell_type": "markdown",
   "metadata": {},
   "source": [
    "A short description about this model."
   ]
  },
  {
   "cell_type": "code",
   "execution_count": null,
   "metadata": {},
   "outputs": [],
   "source": [
    "\"\"\"\n",
    "A model to simulate the spread of fire in a forest.\n",
    "\"\"\""
   ]
  },
  {
   "cell_type": "markdown",
   "metadata": {},
   "source": [
    "We import all necessary modules and functions from other files."
   ]
  },
  {
   "cell_type": "code",
   "execution_count": null,
   "metadata": {},
   "outputs": [],
   "source": [
    "import random\n",
    "from lib.agent import DONT_MOVE\n",
    "from lib.space import neighbor_ratio\n",
    "from lib.display_methods import RED, BLUE\n",
    "from lib.model import Model, MBR_ACTION, NUM_MBRS\n",
    "from lib.model import COLOR, GRP_ACTION, NUM_MBRS_PROP"
   ]
  },
  {
   "cell_type": "markdown",
   "metadata": {},
   "source": [
    "These are the constants and global variables we used in this model."
   ]
  },
  {
   "cell_type": "code",
   "execution_count": null,
   "metadata": {},
   "outputs": [],
   "source": [
    "MODEL_NAME = \"segregation\"\n",
    "DEBUG = False  # Turns debugging code on or off\n",
    "DEBUG2 = False  # Turns deeper debugging code on or off\n",
    "\n",
    "NUM_RED = 250\n",
    "NUM_BLUE = 250\n",
    "\n",
    "DEF_CITY_DIM = 40\n",
    "\n",
    "TOLERANCE = \"tolerance\"\n",
    "DEVIATION = \"deviation\"\n",
    "GRP_INDEX = \"grp_index\"\n",
    "\n",
    "DEF_HOOD_SIZE = 1\n",
    "DEF_TOLERANCE = .5\n",
    "DEF_SIGMA = .2\n",
    "\n",
    "MIN_TOL = 0.1\n",
    "MAX_TOL = 0.9\n",
    "\n",
    "BLUE_GRP_IDX = 0\n",
    "RED_GRP_IDX = 1\n",
    "\n",
    "HOOD_SIZE = 4\n",
    "\n",
    "NOT_ZERO = .001\n",
    "\n",
    "BLUE_AGENTS = \"Blue agents\"\n",
    "RED_AGENTS = \"Red agents\"\n",
    "\n",
    "group_names = [BLUE_AGENTS, RED_AGENTS]\n",
    "\n",
    "hood_size = None\n",
    "\n",
    "opp_group = None"
   ]
  },
  {
   "cell_type": "markdown",
   "metadata": {},
   "source": [
    "The following functions define some actions that our agents can make."
   ]
  },
  {
   "cell_type": "code",
   "execution_count": null,
   "metadata": {},
   "outputs": [],
   "source": [
    "def get_tolerance(default_tolerance, sigma):\n",
    "    \"\"\"\n",
    "    `tolerance` measures how *little* of one's own group one will\n",
    "    tolerate being among.\n",
    "    \"\"\"\n",
    "    tol = random.gauss(default_tolerance, sigma)\n",
    "    # a low tolerance number here means high tolerance!\n",
    "    tol = min(tol, MAX_TOL)\n",
    "    tol = max(tol, MIN_TOL)\n",
    "    return tol\n",
    "\n",
    "\n",
    "def env_favorable(hood_ratio, my_tolerance):\n",
    "    \"\"\"\n",
    "    Is the environment to our agent's liking or not??\n",
    "    \"\"\"\n",
    "    return hood_ratio >= my_tolerance\n",
    "\n",
    "\n",
    "def agent_action(agent, **kwargs):\n",
    "    \"\"\"\n",
    "    This is what agents do each turn of the model.\n",
    "    \"\"\"\n",
    "    agent_group = agent.group_name()\n",
    "    ratio_num = neighbor_ratio(agent, # noqa F841\n",
    "                               lambda agent: agent.group_name() == agent_group,\n",
    "                               size=1)\n",
    "    return DONT_MOVE"
   ]
  },
  {
   "cell_type": "markdown",
   "metadata": {},
   "source": [
    "This structure defines the groups that characterize our agents."
   ]
  },
  {
   "cell_type": "code",
   "execution_count": null,
   "metadata": {},
   "outputs": [],
   "source": [
    "segregation_grps = {\n",
    "    \"blue_group\": {\n",
    "        GRP_ACTION: None,\n",
    "        MBR_ACTION: agent_action,\n",
    "        NUM_MBRS: NUM_BLUE,\n",
    "        NUM_MBRS_PROP: \"num_blue\",\n",
    "        COLOR: BLUE\n",
    "    },\n",
    "    \"red_group\": {\n",
    "        GRP_ACTION: None,\n",
    "        MBR_ACTION: agent_action,\n",
    "        NUM_MBRS: NUM_RED,\n",
    "        NUM_MBRS_PROP: \"num_red\",\n",
    "        COLOR: RED\n",
    "    },\n",
    "}"
   ]
  },
  {
   "cell_type": "markdown",
   "metadata": {},
   "source": [
    "We subclass `Model` to create our own variant of it."
   ]
  },
  {
   "cell_type": "code",
   "execution_count": null,
   "metadata": {},
   "outputs": [],
   "source": [
    "class Segregation(Model):\n",
    "    \"\"\"\n",
    "    Thomas Schelling's famous model of neighborhood segregation.\n",
    "    \"\"\""
   ]
  },
  {
   "cell_type": "markdown",
   "metadata": {},
   "source": [
    "Here's where we create the model class."
   ]
  },
  {
   "cell_type": "code",
   "execution_count": null,
   "metadata": {},
   "outputs": [],
   "source": [
    "def create_model(serial_obj=None):\n",
    "    \"\"\"\n",
    "    This is for the sake of the API server:\n",
    "    \"\"\"\n",
    "    if serial_obj is not None:\n",
    "        return Segregation(serial_obj=serial_obj)\n",
    "    else:\n",
    "        return Segregation(MODEL_NAME, grp_struct=segregation_grps)"
   ]
  },
  {
   "cell_type": "markdown",
   "metadata": {},
   "source": [
    "The main function runs the whole model."
   ]
  },
  {
   "cell_type": "code",
   "execution_count": null,
   "metadata": {},
   "outputs": [],
   "source": [
    "def main():\n",
    "    model = create_model()\n",
    "    model.run()\n",
    "    return 0"
   ]
  },
  {
   "cell_type": "markdown",
   "metadata": {},
   "source": [
    "Now just call main!"
   ]
  },
  {
   "cell_type": "code",
   "execution_count": null,
   "metadata": {},
   "outputs": [],
   "source": [
    "if __name__ == \"__main__\":\n",
    "    main()"
   ]
  }
 ],
 "metadata": {},
 "nbformat": 4,
 "nbformat_minor": 4
}
